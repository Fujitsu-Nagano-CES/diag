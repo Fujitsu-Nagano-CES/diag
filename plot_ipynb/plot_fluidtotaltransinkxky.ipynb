{
 "cells": [
  {
   "cell_type": "markdown",
   "metadata": {},
   "source": [
    "# Plot fluidtotaltransinkxky*"
   ]
  },
  {
   "cell_type": "code",
   "execution_count": null,
   "metadata": {},
   "outputs": [],
   "source": [
    "import numpy as np\n",
    "import matplotlib.pyplot as plt\n",
    "import glob\n",
    "import f90nml\n",
    "from read_f90 import read_parameters, read_time # In-house module for GKV-diag outputs\n",
    "\n",
    "### GKV parameters from gkvp_header.f90 ###\n",
    "nx=read_parameters(\"../src/gkvp_header.f90\", \"nx\", int)\n",
    "global_ny=read_parameters(\"../src/gkvp_header.f90\", \"global_ny\", int)\n",
    "\n",
    "### GKV parameters from gkvp_namelist ###\n",
    "nml=f90nml.read(\"../gkvp_namelist.001\")\n",
    "#print(nml)\n",
    "dtout_eng=nml[\"times\"][\"dtout_eng\"]\n",
    "\n",
    "print(\"nx =\",nx)\n",
    "print(\"global_ny =\",global_ny)\n",
    "print(\"dtout_eng =\",dtout_eng)"
   ]
  },
  {
   "cell_type": "code",
   "execution_count": null,
   "metadata": {},
   "outputs": [],
   "source": [
    "### Load data of fluidtotaltransinkxky* ###\n",
    "filelist=sorted(glob.glob(\"./data/fluidtotaltransinkxky_s0_t*dat\"))\n",
    "\n",
    "# Time\n",
    "t=[]\n",
    "for f in filelist:\n",
    "    wt=read_time(f)\n",
    "    t.append(wt)\n",
    "t=np.array(t)\n",
    "print(\"t =\",t)\n",
    "\n",
    "# Coordinates: kx, ky\n",
    "data=np.loadtxt(filelist[0]) # Ascii data\n",
    "data=data.reshape(global_ny+1,2*nx+1,4)\n",
    "kx=data[0,:,0]\n",
    "ky=data[:,0,1]\n",
    "print(\"kx =\",kx)\n",
    "print(\"ky =\",ky)    \n",
    "\n",
    "# Values from fluidtotaltransinkxky*\n",
    "tk_es=[]\n",
    "tk_em=[]\n",
    "for f in filelist:\n",
    "    data=np.loadtxt(f) # Ascii data\n",
    "    data=data.reshape(global_ny+1,2*nx+1,4)\n",
    "#     kx=data[0,:,0]\n",
    "#     ky=data[:,0,1]\n",
    "    tk_es.append(data[:,:,2])\n",
    "    tk_em.append(data[:,:,3])\n",
    "\n",
    "tk_es=np.array(tk_es)\n",
    "tk_em=np.array(tk_em)\n",
    "print(tk_es.shape)\n",
    "print(tk_em.shape)  "
   ]
  },
  {
   "cell_type": "code",
   "execution_count": null,
   "metadata": {},
   "outputs": [],
   "source": [
    "it=10\n",
    "fig=plt.figure()\n",
    "ax=fig.add_subplot(111)\n",
    "vmax=np.abs(tk_es[it,:,:]).max()\n",
    "quad=ax.pcolormesh(kx,ky,tk_es[it,:,:],shading=\"auto\",cmap=\"RdBu_r\",vmin=-vmax,vmax=vmax)\n",
    "cbar=fig.colorbar(quad,shrink=1.0,aspect=5)\n",
    "ax.set_title(r\"Electrostatic nonlinear transfer $I_E$ (t={})\".format(t[it]))\n",
    "ax.set_xlabel(r\"Radial wavenumber $k_x$\")\n",
    "ax.set_ylabel(r\"Poloidal wavenumber $k_y$\")\n",
    "plt.show()"
   ]
  },
  {
   "cell_type": "code",
   "execution_count": null,
   "metadata": {},
   "outputs": [],
   "source": [
    "mx=nx\n",
    "my=2\n",
    "fig=plt.figure()\n",
    "ax=fig.add_subplot(111)\n",
    "ax.plot(t,tk_es[:,my,mx],label=r\"$k_x$={},$k_y$={}\".format(kx[mx],ky[my]))\n",
    "ax.set_xlabel(\"Time t\")\n",
    "ax.set_ylabel(r\"Electrostatic nonlinear transfer $I_E$\")\n",
    "plt.show()"
   ]
  },
  {
   "cell_type": "code",
   "execution_count": null,
   "metadata": {},
   "outputs": [],
   "source": []
  }
 ],
 "metadata": {
  "kernelspec": {
   "display_name": "Python 3",
   "language": "python",
   "name": "python3"
  },
  "language_info": {
   "codemirror_mode": {
    "name": "ipython",
    "version": 3
   },
   "file_extension": ".py",
   "mimetype": "text/x-python",
   "name": "python",
   "nbconvert_exporter": "python",
   "pygments_lexer": "ipython3",
   "version": "3.9.2"
  }
 },
 "nbformat": 4,
 "nbformat_minor": 4
}
