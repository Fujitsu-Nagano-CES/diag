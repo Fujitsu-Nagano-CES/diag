{
 "cells": [
  {
   "cell_type": "markdown",
   "metadata": {},
   "source": [
    "# Plot phiinrz*"
   ]
  },
  {
   "cell_type": "code",
   "execution_count": null,
   "metadata": {},
   "outputs": [],
   "source": [
    "import numpy as np\n",
    "import matplotlib.pyplot as plt\n",
    "import glob\n",
    "import f90nml\n",
    "from read_f90 import read_parameters, read_time # In-house module for GKV-diag outputs\n",
    "\n",
    "### GKV parameters from gkvp_header.f90 ###\n",
    "nxw=read_parameters(\"../src/gkvp_header.f90\", \"nxw\", int)\n",
    "nyw=read_parameters(\"../src/gkvp_header.f90\", \"nyw\", int)\n",
    "\n",
    "### GKV parameters from gkvp_namelist ###\n",
    "nml=f90nml.read(\"../gkvp_namelist.001\")\n",
    "#print(nml)\n",
    "dtout_ptn=nml[\"times\"][\"dtout_ptn\"]\n",
    "\n",
    "print(\"nxw =\",nxw)\n",
    "print(\"dtout_ptn =\",dtout_ptn)"
   ]
  },
  {
   "cell_type": "code",
   "execution_count": null,
   "metadata": {},
   "outputs": [],
   "source": [
    "### Load data of mominxy* ###\n",
    "filelist=sorted(glob.glob(\"./data/phiinrz_t*dat\"))\n",
    "\n",
    "# Time\n",
    "t=[]\n",
    "for f in filelist:\n",
    "    wt=read_time(f)\n",
    "    t.append(wt)\n",
    "t=np.array(t)\n",
    "print(\"t =\",t)\n",
    "\n",
    "# Coordinates: xx, yy\n",
    "data=np.loadtxt(filelist[0]) # Ascii data\n",
    "print(data.shape)\n",
    "nzw=int((data.shape[0]/(2*nxw+1)-1)/2)\n",
    "print(nzw)\n",
    "data=data.reshape(2*nzw+1,2*nxw+1,3)\n",
    "mr=data[:,:,0]\n",
    "z_car=data[:,:,1]\n",
    "print(\"mr =\",mr)\n",
    "print(\"z_car =\",z_car)    \n",
    "\n",
    "# Values from mominxy*\n",
    "phi=[]\n",
    "for f in filelist:\n",
    "    data=np.loadtxt(f) # Ascii data\n",
    "    data=data.reshape(2*nzw+1,2*nxw+1,3)\n",
    "#     mr=data[:,:,0]\n",
    "#     z_car=data[:,:,1]\n",
    "#     phi=data[:,:,2]\n",
    "#     upara=data[:,:,3]\n",
    "#     ppara=data[:,:,4]\n",
    "#     pperp=data[:,:,5]\n",
    "#     qlpara=data[:,:,6]\n",
    "#     qlperp=data[:,:,7]\n",
    "    phi.append(data[:,:,2])\n",
    "    \n",
    "phi=np.array(phi)\n",
    "print(phi.shape)  "
   ]
  },
  {
   "cell_type": "code",
   "execution_count": null,
   "metadata": {},
   "outputs": [],
   "source": [
    "it=40\n",
    "fig=plt.figure(figsize=(6,6))\n",
    "ax=fig.add_subplot(111)\n",
    "quad=ax.pcolormesh(mr,z_car,phi[it,:,:],cmap=\"jet\",shading=\"auto\")\n",
    "vmax=np.max(np.abs(phi[it,:,:]))\n",
    "quad.set_clim(-vmax,vmax)\n",
    "cbar=fig.colorbar(quad,shrink=1.0,aspect=5)\n",
    "ax.set_title(r\"Electrostatic potential $\\phi$ (t={})\".format(t[it]))\n",
    "ax.set_aspect('equal')\n",
    "ax.set_xlabel(r\"Major radius $R/R_0$\")\n",
    "ax.set_ylabel(r\"Height $Z/R_0$\")\n",
    "plt.show()"
   ]
  },
  {
   "cell_type": "code",
   "execution_count": null,
   "metadata": {},
   "outputs": [],
   "source": [
    "### Example of animation ###\n",
    "from matplotlib.animation import FuncAnimation\n",
    "from IPython.display import HTML\n",
    "\n",
    "fig = plt.figure(figsize=(6,6))\n",
    "ax = fig.add_subplot(111)\n",
    "ax.set_aspect('equal')\n",
    "ax.set_xlabel(r\"Major radius $R/R_0$\")\n",
    "ax.set_ylabel(r\"Height $Z/R_0$\")\n",
    "title=ax.set_title(r\"Electrostatic potential $\\phi$ (t={})\".format(t[0]))\n",
    "quad=ax.pcolormesh(mr,z_car,phi[0,:,:],cmap=\"jet\",shading=\"auto\")\n",
    "vmax=np.max(np.abs(phi[0,:,:]))\n",
    "quad.set_clim(-vmax,vmax)\n",
    "cbar=fig.colorbar(quad,shrink=1.0,aspect=5)\n",
    "\n",
    "def update_quad(i):\n",
    "    title.set_text(r\"Electrostatic potential $\\phi$ (t={})\".format(t[i]))\n",
    "    quad.set_array(phi[i,:,:].flatten())\n",
    "    vmax=np.max(np.abs(phi[i,:,:]))\n",
    "    quad.set_clim(-vmax,vmax)\n",
    "\n",
    "ani = FuncAnimation(fig, update_quad,\n",
    "                    frames=range(0,len(t),10), interval=100)\n",
    "#ani.save('advection.mp4', writer=\"ffmpeg\", dpi=100)\n",
    "#plt.close()\n",
    "\n",
    "HTML(ani.to_jshtml())"
   ]
  },
  {
   "cell_type": "code",
   "execution_count": null,
   "metadata": {},
   "outputs": [],
   "source": []
  },
  {
   "cell_type": "code",
   "execution_count": null,
   "metadata": {},
   "outputs": [],
   "source": []
  }
 ],
 "metadata": {
  "kernelspec": {
   "display_name": "Python 3",
   "language": "python",
   "name": "python3"
  },
  "language_info": {
   "codemirror_mode": {
    "name": "ipython",
    "version": 3
   },
   "file_extension": ".py",
   "mimetype": "text/x-python",
   "name": "python",
   "nbconvert_exporter": "python",
   "pygments_lexer": "ipython3",
   "version": "3.7.7"
  }
 },
 "nbformat": 4,
 "nbformat_minor": 4
}
