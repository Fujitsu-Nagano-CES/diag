{
 "cells": [
  {
   "cell_type": "markdown",
   "metadata": {},
   "source": [
    "# Plot phiinkxky*\n",
    "Alinkxky* also has the same format."
   ]
  },
  {
   "cell_type": "code",
   "execution_count": null,
   "metadata": {},
   "outputs": [],
   "source": [
    "import numpy as np\n",
    "import matplotlib.pyplot as plt\n",
    "import glob\n",
    "import f90nml\n",
    "from read_f90 import read_parameters, read_time # In-house module for GKV-diag outputs\n",
    "\n",
    "### GKV parameters from gkvp_header.f90 ###\n",
    "nx=read_parameters(\"../src/gkvp_header.f90\", \"nx\", int)\n",
    "global_ny=read_parameters(\"../src/gkvp_header.f90\", \"global_ny\", int)\n",
    "\n",
    "### GKV parameters from gkvp_namelist ###\n",
    "nml=f90nml.read(\"../gkvp_namelist.001\")\n",
    "#print(nml)\n",
    "dtout_ptn=nml[\"times\"][\"dtout_ptn\"]\n",
    "\n",
    "print(\"nx =\",nx)\n",
    "print(\"global_ny =\",global_ny)\n",
    "print(\"dtout_ptn =\",dtout_ptn)"
   ]
  },
  {
   "cell_type": "code",
   "execution_count": null,
   "metadata": {},
   "outputs": [],
   "source": [
    "### Load data of phiinkxky* ###\n",
    "filelist=sorted(glob.glob(\"./data/phiinkxky_t*dat\"))\n",
    "\n",
    "# Time\n",
    "t=[]\n",
    "for f in filelist:\n",
    "    wt=read_time(f)\n",
    "    t.append(wt)\n",
    "t=np.array(t)\n",
    "print(\"t =\",t)\n",
    "\n",
    "# Coordinates: kx, ky\n",
    "data=np.loadtxt(filelist[0]) # Ascii data\n",
    "data=data.reshape(global_ny+1,2*nx+1,3)\n",
    "kx=data[0,:,0]\n",
    "ky=data[:,0,1]\n",
    "print(\"kx =\",kx)\n",
    "print(\"ky =\",ky)    \n",
    "\n",
    "# Values from phiinkxky*\n",
    "eng=[]\n",
    "for f in filelist:\n",
    "    data=np.loadtxt(f) # Ascii data\n",
    "    data=data.reshape(global_ny+1,2*nx+1,3)\n",
    "#     kx=data[0,:,0]\n",
    "#     ky=data[:,0,1]\n",
    "#     eng=data[:,:,2]\n",
    "    eng.append(data[:,:,2])\n",
    "    \n",
    "eng=np.array(eng)\n",
    "print(eng.shape)  "
   ]
  },
  {
   "cell_type": "code",
   "execution_count": null,
   "metadata": {},
   "outputs": [],
   "source": [
    "it=10\n",
    "fig=plt.figure()\n",
    "ax=fig.add_subplot(111)\n",
    "quad=ax.pcolormesh(kx,ky,eng[it,:-1,:-1])\n",
    "cbar=fig.colorbar(quad,shrink=1.0,aspect=5)\n",
    "ax.set_title(r\"$<|\\phi_k|^2>$ (t={})\".format(t[it]))\n",
    "ax.set_xlabel(r\"Radial wavenumber $k_x$\")\n",
    "ax.set_ylabel(r\"Poloidal wavenumber $k_y$\")\n",
    "plt.show()"
   ]
  },
  {
   "cell_type": "code",
   "execution_count": null,
   "metadata": {},
   "outputs": [],
   "source": [
    "### Example of animation ###\n",
    "from matplotlib.animation import FuncAnimation\n",
    "from IPython.display import HTML\n",
    "\n",
    "fig = plt.figure()\n",
    "ax = fig.add_subplot(111)\n",
    "ax.set_xlabel(r\"Radial wavenumber $k_x$\")\n",
    "ax.set_ylabel(r\"Poloidal wavenumber $k_y$\")\n",
    "title=ax.set_title(r\"$<|\\phi_k|^2>$ (t={})\".format(t[0]))\n",
    "quad=ax.pcolormesh(kx,ky,eng[0,:-1,:-1])\n",
    "vmax=np.max(eng[0,:-1,:-1])\n",
    "quad.set_clim(0,vmax)\n",
    "cbar=fig.colorbar(quad,shrink=1.0,aspect=5)\n",
    "\n",
    "def update_quad(i):\n",
    "    title.set_text(r\"$<|\\phi_k|^2>$ (t={})\".format(t[i]))\n",
    "    quad.set_array(eng[i,:-1,:-1].flatten())\n",
    "    vmax=np.max(eng[i,:-1,:-1])\n",
    "    quad.set_clim(0,vmax)\n",
    "\n",
    "ani = FuncAnimation(fig, update_quad,\n",
    "                    frames=range(0,len(t),10), interval=100)\n",
    "#ani.save('advection.mp4', writer=\"ffmpeg\", dpi=100)\n",
    "#plt.close()\n",
    "\n",
    "HTML(ani.to_jshtml())"
   ]
  },
  {
   "cell_type": "code",
   "execution_count": null,
   "metadata": {},
   "outputs": [],
   "source": []
  },
  {
   "cell_type": "code",
   "execution_count": null,
   "metadata": {},
   "outputs": [],
   "source": []
  },
  {
   "cell_type": "code",
   "execution_count": null,
   "metadata": {},
   "outputs": [],
   "source": []
  }
 ],
 "metadata": {
  "kernelspec": {
   "display_name": "Python 3",
   "language": "python",
   "name": "python3"
  },
  "language_info": {
   "codemirror_mode": {
    "name": "ipython",
    "version": 3
   },
   "file_extension": ".py",
   "mimetype": "text/x-python",
   "name": "python",
   "nbconvert_exporter": "python",
   "pygments_lexer": "ipython3",
   "version": "3.8.5"
  }
 },
 "nbformat": 4,
 "nbformat_minor": 4
}
