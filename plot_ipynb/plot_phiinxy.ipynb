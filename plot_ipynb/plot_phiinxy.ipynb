{
 "cells": [
  {
   "cell_type": "markdown",
   "metadata": {},
   "source": [
    "# Plot phiinxy*\n",
    "Alinxy* also has the same format."
   ]
  },
  {
   "cell_type": "code",
   "execution_count": null,
   "metadata": {},
   "outputs": [],
   "source": [
    "import numpy as np\n",
    "import matplotlib.pyplot as plt\n",
    "import glob\n",
    "import f90nml\n",
    "from read_f90 import read_parameters, read_time # In-house module for GKV-diag outputs\n",
    "\n",
    "### GKV parameters from gkvp_header.f90 ###\n",
    "nxw=read_parameters(\"../src/gkvp_header.f90\", \"nxw\", int)\n",
    "nyw=read_parameters(\"../src/gkvp_header.f90\", \"nyw\", int)\n",
    "\n",
    "### GKV parameters from gkvp_namelist ###\n",
    "nml=f90nml.read(\"../gkvp_namelist.001\")\n",
    "#print(nml)\n",
    "dtout_ptn=nml[\"times\"][\"dtout_ptn\"]\n",
    "\n",
    "print(\"nxw =\",nxw)\n",
    "print(\"nyw =\",nyw)\n",
    "print(\"dtout_ptn =\",dtout_ptn)"
   ]
  },
  {
   "cell_type": "code",
   "execution_count": null,
   "metadata": {},
   "outputs": [],
   "source": [
    "### Load data of phiinxy* ###\n",
    "filelist=sorted(glob.glob(\"./data/phiinxy_z0000_t*dat\"))\n",
    "\n",
    "# Time\n",
    "t=[]\n",
    "for f in filelist:\n",
    "    wt=read_time(f)\n",
    "    t.append(wt)\n",
    "t=np.array(t)\n",
    "print(\"t =\",t)\n",
    "\n",
    "# Coordinates: xx, yy\n",
    "data=np.loadtxt(filelist[0]) # Ascii data\n",
    "data=data.reshape(2*nyw,2*nxw,3)\n",
    "xx=data[0,:,0]\n",
    "yy=data[:,0,1]\n",
    "print(\"xx =\",xx)\n",
    "print(\"yy =\",yy)    \n",
    "\n",
    "# Values from phiinxy*\n",
    "phi=[]\n",
    "for f in filelist:\n",
    "    data=np.loadtxt(f) # Ascii data\n",
    "    data=data.reshape(2*nyw,2*nxw,3)\n",
    "#     x=data[0,:,0]\n",
    "#     y=data[:,0,1]\n",
    "#     phi=data[:,:,2]\n",
    "    phi.append(data[:,:,2])\n",
    "    \n",
    "phi=np.array(phi)\n",
    "print(phi.shape)  "
   ]
  },
  {
   "cell_type": "code",
   "execution_count": null,
   "metadata": {},
   "outputs": [],
   "source": [
    "it=10\n",
    "fig=plt.figure()\n",
    "ax=fig.add_subplot(111)\n",
    "quad=ax.pcolormesh(xx,yy,phi[it,:-1,:-1],cmap=\"jet\")\n",
    "vmax=np.max(np.abs(phi[it,:-1,:-1]))\n",
    "quad.set_clim(-vmax,vmax)\n",
    "cbar=fig.colorbar(quad,shrink=1.0,aspect=5)\n",
    "ax.set_title(r\"$\\phi$ (t={})\".format(t[it]))\n",
    "ax.set_xlabel(r\"Radial direction $x$\")\n",
    "ax.set_ylabel(r\"Poloidal direction $y$\")\n",
    "plt.show()"
   ]
  },
  {
   "cell_type": "code",
   "execution_count": null,
   "metadata": {},
   "outputs": [],
   "source": [
    "### Example of animation ###\n",
    "from matplotlib.animation import FuncAnimation\n",
    "from IPython.display import HTML\n",
    "\n",
    "fig = plt.figure()\n",
    "ax = fig.add_subplot(111)\n",
    "ax.set_xlabel(r\"Radial direction $x$\")\n",
    "ax.set_ylabel(r\"Poloidal direction $y$\")\n",
    "title=ax.set_title(r\"$\\phi$ (t={})\".format(t[0]))\n",
    "quad=ax.pcolormesh(xx,yy,phi[0,:-1,:-1],cmap=\"jet\")\n",
    "vmax=np.max(np.abs(phi[0,:-1,:-1]))\n",
    "quad.set_clim(-vmax,vmax)\n",
    "cbar=fig.colorbar(quad,shrink=1.0,aspect=5)\n",
    "\n",
    "def update_quad(i):\n",
    "    title.set_text(r\"$\\phi$ (t={})\".format(t[i]))\n",
    "    quad.set_array(phi[i,:-1,:-1].flatten())\n",
    "    vmax=np.max(np.abs(phi[i,:-1,:-1]))\n",
    "    quad.set_clim(-vmax,vmax)\n",
    "\n",
    "ani = FuncAnimation(fig, update_quad,\n",
    "                    frames=range(0,len(t),10), interval=100)\n",
    "#ani.save('advection.mp4', writer=\"ffmpeg\", dpi=100)\n",
    "#plt.close()\n",
    "\n",
    "HTML(ani.to_jshtml())"
   ]
  },
  {
   "cell_type": "code",
   "execution_count": null,
   "metadata": {},
   "outputs": [],
   "source": []
  },
  {
   "cell_type": "code",
   "execution_count": null,
   "metadata": {},
   "outputs": [],
   "source": []
  }
 ],
 "metadata": {
  "kernelspec": {
   "display_name": "Python 3",
   "language": "python",
   "name": "python3"
  },
  "language_info": {
   "codemirror_mode": {
    "name": "ipython",
    "version": 3
   },
   "file_extension": ".py",
   "mimetype": "text/x-python",
   "name": "python",
   "nbconvert_exporter": "python",
   "pygments_lexer": "ipython3",
   "version": "3.8.5"
  }
 },
 "nbformat": 4,
 "nbformat_minor": 4
}
