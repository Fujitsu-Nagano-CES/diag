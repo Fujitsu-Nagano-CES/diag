{
 "cells": [
  {
   "cell_type": "markdown",
   "metadata": {},
   "source": [
    "# Plot phiinz*\n",
    "Alinz* also has the same format."
   ]
  },
  {
   "cell_type": "code",
   "execution_count": null,
   "metadata": {},
   "outputs": [],
   "source": [
    "import numpy as np\n",
    "import matplotlib.pyplot as plt\n",
    "import glob\n",
    "import f90nml\n",
    "from read_f90 import read_parameters, read_time # In-house module for GKV-diag outputs\n",
    "\n",
    "### GKV parameters from gkvp_header.f90 ###\n",
    "global_nz=read_parameters(\"../src/gkvp_header.f90\", \"global_nz\", int)\n",
    "\n",
    "### GKV parameters from gkvp_namelist ###\n",
    "nml=f90nml.read(\"../gkvp_namelist.001\")\n",
    "#print(nml)\n",
    "n_tht=nml[\"nperi\"][\"n_tht\"]\n",
    "dtout_ptn=nml[\"times\"][\"dtout_ptn\"]\n",
    "\n",
    "print(\"global_nz =\",global_nz)\n",
    "print(\"n_tht =\",n_tht)\n",
    "print(\"dtout_ptn =\",dtout_ptn)"
   ]
  },
  {
   "cell_type": "code",
   "execution_count": null,
   "metadata": {},
   "outputs": [],
   "source": [
    "### Load data of phiinz* ###\n",
    "#filelist=sorted(glob.glob(\"./data/phiinz_mx0000my0001_t*dat\"))\n",
    "filelist=sorted(glob.glob(\"./data/phiinz_connect_mx0000my0001_t*dat\"))\n",
    "\n",
    "# Time\n",
    "t=[]\n",
    "for f in filelist:\n",
    "    wt=read_time(f)\n",
    "    t.append(wt)\n",
    "t=np.array(t)\n",
    "print(\"t =\",t)\n",
    "\n",
    "# Coordinates: zz\n",
    "data=np.loadtxt(filelist[0]) # Ascii data\n",
    "zz=data[:,0]\n",
    "print(\"zz =\",zz)\n",
    "\n",
    "# Values from phiinz*\n",
    "phi=[]\n",
    "for f in filelist:\n",
    "    data=np.loadtxt(f) # Ascii data\n",
    "#     zz=data[:,0]\n",
    "    re_phi=data[:,1]\n",
    "    im_phi=data[:,2]\n",
    "    phi.append(re_phi+1j*im_phi)\n",
    "    \n",
    "phi=np.array(phi)\n",
    "print(phi.shape)  "
   ]
  },
  {
   "cell_type": "code",
   "execution_count": null,
   "metadata": {},
   "outputs": [],
   "source": [
    "it=10\n",
    "fig=plt.figure()\n",
    "ax=fig.add_subplot(111)\n",
    "ax.plot(zz,phi[it,:].real,label=r\"Re[$\\phi_k$]\")\n",
    "ax.plot(zz,phi[it,:].imag,label=r\"Im[$\\phi_k$]\")\n",
    "ax.set_title(r\"$\\phi_k$ (t={})\".format(t[it]))\n",
    "ax.set_xlabel(r\"Field-aligned coordinate $z$\")\n",
    "ax.legend()\n",
    "ax.grid(ls=\"--\")\n",
    "plt.show()\n",
    "\n",
    "# Normalized at flux-tube center zz=0\n",
    "iz0=int(len(zz)/2)\n",
    "phi0=phi[:,iz0]\n",
    "phi_normalized=phi/phi0.reshape(len(phi0),1)\n",
    "\n",
    "it=10\n",
    "fig=plt.figure()\n",
    "ax=fig.add_subplot(111)\n",
    "ax.plot(zz,phi_normalized[it,:].real,label=r\"Re[$\\phi_k$]\")\n",
    "ax.plot(zz,phi_normalized[it,:].imag,label=r\"Im[$\\phi_k$]\")\n",
    "ax.set_title(r\"$\\phi_k$ (t={})\".format(t[it]))\n",
    "ax.set_xlabel(r\"Field-aligned coordinate $z$\")\n",
    "ax.legend()\n",
    "ax.grid(ls=\"--\")\n",
    "plt.show()"
   ]
  },
  {
   "cell_type": "code",
   "execution_count": null,
   "metadata": {},
   "outputs": [],
   "source": [
    "### Example of animation ###\n",
    "from matplotlib.animation import FuncAnimation\n",
    "from IPython.display import HTML\n",
    "\n",
    "fig=plt.figure()\n",
    "ax=fig.add_subplot(111)\n",
    "\n",
    "def update_ax(i):\n",
    "    ax.clear()\n",
    "    ax.plot(zz,phi[i,:].real,label=r\"Re[$\\phi_k$]\")\n",
    "    ax.plot(zz,phi[i,:].imag,label=r\"Im[$\\phi_k$]\")\n",
    "    ax.set_title(r\"$\\phi_k$ (t={})\".format(t[i]))\n",
    "    ax.set_xlabel(r\"Field-aligned coordinate $z$\")\n",
    "    ax.legend()\n",
    "    ax.grid(ls=\"--\")\n",
    "    return\n",
    "\n",
    "ani = FuncAnimation(fig, update_ax,\n",
    "                    frames=range(0,len(t),10), interval=100)\n",
    "#ani.save('advection.mp4', writer=\"ffmpeg\", dpi=100)\n",
    "#plt.close()\n",
    "\n",
    "HTML(ani.to_jshtml())"
   ]
  },
  {
   "cell_type": "code",
   "execution_count": null,
   "metadata": {},
   "outputs": [],
   "source": []
  },
  {
   "cell_type": "code",
   "execution_count": null,
   "metadata": {},
   "outputs": [],
   "source": []
  }
 ],
 "metadata": {
  "kernelspec": {
   "display_name": "Python 3",
   "language": "python",
   "name": "python3"
  },
  "language_info": {
   "codemirror_mode": {
    "name": "ipython",
    "version": 3
   },
   "file_extension": ".py",
   "mimetype": "text/x-python",
   "name": "python",
   "nbconvert_exporter": "python",
   "pygments_lexer": "ipython3",
   "version": "3.8.5"
  }
 },
 "nbformat": 4,
 "nbformat_minor": 4
}
