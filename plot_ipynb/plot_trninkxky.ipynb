{
 "cells": [
  {
   "cell_type": "markdown",
   "metadata": {},
   "source": [
    "# Plot trninkxky*"
   ]
  },
  {
   "cell_type": "code",
   "execution_count": null,
   "metadata": {},
   "outputs": [],
   "source": [
    "import numpy as np\n",
    "import matplotlib.pyplot as plt\n",
    "import glob\n",
    "import f90nml\n",
    "from read_f90 import read_parameters, read_time # In-house module for GKV-diag outputs\n",
    "\n",
    "### GKV parameters from gkvp_header.f90 ###\n",
    "nx=read_parameters(\"../src/gkvp_header.f90\", \"nx\", int)\n",
    "global_ny=read_parameters(\"../src/gkvp_header.f90\", \"global_ny\", int)\n",
    "\n",
    "### GKV parameters from gkvp_namelist ###\n",
    "nml=f90nml.read(\"../gkvp_namelist.001\")\n",
    "#print(nml)\n",
    "dtout_eng=nml[\"times\"][\"dtout_eng\"]\n",
    "\n",
    "print(\"nx =\",nx)\n",
    "print(\"global_ny =\",global_ny)\n",
    "print(\"dtout_eng =\",dtout_eng)"
   ]
  },
  {
   "cell_type": "code",
   "execution_count": null,
   "metadata": {},
   "outputs": [],
   "source": [
    "### Load data of trninkxky* ###\n",
    "filelist=sorted(glob.glob(\"./data/trninkxky_s0_t*dat\"))\n",
    "\n",
    "# Time\n",
    "t=[]\n",
    "for f in filelist:\n",
    "    wt=read_time(f)\n",
    "    t.append(wt)\n",
    "t=np.array(t)\n",
    "print(\"t =\",t)\n",
    "\n",
    "# Coordinates: kx, ky\n",
    "data=np.loadtxt(filelist[0]) # Ascii data\n",
    "data=data.reshape(global_ny+1,2*nx+1,14)\n",
    "kx=data[0,:,0]\n",
    "ky=data[:,0,1]\n",
    "print(\"kx =\",kx)\n",
    "print(\"ky =\",ky)    \n",
    "\n",
    "# Values from trninkxky*\n",
    "neint=[]\n",
    "nmint=[]\n",
    "for f in filelist:\n",
    "    data=np.loadtxt(f) # Ascii data\n",
    "    data=data.reshape(global_ny+1,2*nx+1,14)\n",
    "#     kx=data[0,:,0]\n",
    "#     ky=data[:,0,1]\n",
    "#     entrpy=data[:,:,2]\n",
    "#     fenegy=data[:,:,3]\n",
    "#     menegy=data[:,:,4]\n",
    "#     peint=data[:,:,5]\n",
    "#     pmint=data[:,:,6]\n",
    "#     neint=data[:,:,7]\n",
    "#     nmint=data[:,:,8]\n",
    "#     dcd=data[:,:,9]\n",
    "#     pflux_es=data[:,:,10]\n",
    "#     pflux_em=data[:,:,11]\n",
    "#     eflux_es=data[:,:,12]\n",
    "#     eflux_em=data[:,:,13]\n",
    "    neint.append(data[:,:,7])\n",
    "    nmint.append(data[:,:,8])\n",
    "\n",
    "neint=np.array(neint)\n",
    "nmint=np.array(nmint)\n",
    "print(neint.shape)\n",
    "print(nmint.shape)  "
   ]
  },
  {
   "cell_type": "code",
   "execution_count": null,
   "metadata": {},
   "outputs": [],
   "source": [
    "it=10\n",
    "fig=plt.figure()\n",
    "ax=fig.add_subplot(111)\n",
    "quad=ax.pcolormesh(kx,ky,neint[it,:-1,:-1])\n",
    "cbar=fig.colorbar(quad,shrink=1.0,aspect=5)\n",
    "ax.set_title(r\"Electrostatic nonlinear transfer $I_E$ (t={})\".format(t[it]))\n",
    "ax.set_xlabel(r\"Radial wavenumber $k_x$\")\n",
    "ax.set_ylabel(r\"Poloidal wavenumber $k_y$\")\n",
    "plt.show()"
   ]
  },
  {
   "cell_type": "code",
   "execution_count": null,
   "metadata": {},
   "outputs": [],
   "source": [
    "mx=nx\n",
    "my=2\n",
    "fig=plt.figure()\n",
    "ax=fig.add_subplot(111)\n",
    "ax.plot(t,neint[:,my,mx],label=r\"$k_x$={},$k_y$={}\".format(kx[mx],ky[my]))\n",
    "ax.set_xlabel(\"Time t\")\n",
    "ax.set_ylabel(r\"Electrostatic nonlinear transfer $I_E$\")\n",
    "plt.show()"
   ]
  },
  {
   "cell_type": "markdown",
   "metadata": {},
   "source": [
    "# Plot triinkxky*"
   ]
  },
  {
   "cell_type": "code",
   "execution_count": null,
   "metadata": {},
   "outputs": [],
   "source": [
    "import numpy as np\n",
    "import matplotlib.pyplot as plt\n",
    "import glob\n",
    "import f90nml\n",
    "from read_f90 import read_parameters, read_time # In-house module for GKV-diag outputs\n",
    "\n",
    "### GKV parameters from gkvp_header.f90 ###\n",
    "nx=read_parameters(\"../src/gkvp_header.f90\", \"nx\", int)\n",
    "global_ny=read_parameters(\"../src/gkvp_header.f90\", \"global_ny\", int)\n",
    "\n",
    "### GKV parameters from gkvp_namelist ###\n",
    "nml=f90nml.read(\"../gkvp_namelist.001\")\n",
    "#print(gkvnml)\n",
    "dtout_ptn=nml[\"times\"][\"dtout_ptn\"]\n",
    "\n",
    "print(\"nx =\",nx)\n",
    "print(\"global_ny =\",global_ny)\n",
    "print(\"dtout_ptn =\",dtout_ptn)"
   ]
  },
  {
   "cell_type": "code",
   "execution_count": null,
   "metadata": {},
   "outputs": [],
   "source": [
    "### Load data of triinkxky* ###\n",
    "filelist=sorted(glob.glob(\"./data/triinkxky_s0mx0000my0002_t*dat\"))\n",
    "\n",
    "# Time\n",
    "t_tri=[]\n",
    "for f in filelist:\n",
    "    wt=read_time(f)\n",
    "    t_tri.append(wt)\n",
    "t_tri=np.array(t_tri)\n",
    "print(\"t_tri =\",t_tri)\n",
    "\n",
    "# Coordinates: kx, ky\n",
    "data=np.loadtxt(filelist[0]) # Ascii data\n",
    "data=data.reshape(2*global_ny+1,2*nx+1,8)\n",
    "kx_tri=data[0,:,0]\n",
    "ky_tri=data[:,0,1]\n",
    "print(\"kx_tri =\",kx_tri)\n",
    "print(\"ky_tri =\",ky_tri)    \n",
    "\n",
    "# Values from triinkxky*\n",
    "jkpq_es=[]\n",
    "jkpq_em=[]\n",
    "for f in filelist:\n",
    "    data=np.loadtxt(f) # Ascii data\n",
    "    data=data.reshape(2*global_ny+1,2*nx+1,8)\n",
    "#     kx=data[0,:,0]\n",
    "#     ky=data[:,0,1]\n",
    "#     jkpq_es=data[:,:,2]\n",
    "#     jpqk_es=data[:,:,3]\n",
    "#     jqkp_es=data[:,:,4]\n",
    "#     jkpq_em=data[:,:,5]\n",
    "#     jpqk_em=data[:,:,6]\n",
    "#     jqkp_em=data[:,:,7]\n",
    "    jkpq_es.append(data[:,:,2])\n",
    "    jkpq_em.append(data[:,:,5])\n",
    "\n",
    "jkpq_es=np.array(jkpq_es)\n",
    "jkpq_em=np.array(jkpq_em)\n",
    "print(jkpq_es.shape)\n",
    "print(jkpq_em.shape)  "
   ]
  },
  {
   "cell_type": "code",
   "execution_count": null,
   "metadata": {},
   "outputs": [],
   "source": [
    "it=10\n",
    "fig=plt.figure()\n",
    "ax=fig.add_subplot(111)\n",
    "quad=ax.pcolormesh(kx_tri,ky_tri,jkpq_es[it,:-1,:-1])\n",
    "cbar=fig.colorbar(quad,shrink=1.0,aspect=5)\n",
    "ax.set_title(r\"Electrostatic triad transfer $J_k^{pq}$\"+\" (t={})\".format(t_tri[it]))\n",
    "ax.set_xlabel(r\"Radial wavenumber $p_x$\")\n",
    "ax.set_ylabel(r\"Poloidal wavenumber $p_y$\")\n",
    "plt.show()"
   ]
  },
  {
   "cell_type": "markdown",
   "metadata": {},
   "source": [
    "# Check total transfer $I_k=\\sum_p\\sum_q J_k^{pq}$"
   ]
  },
  {
   "cell_type": "code",
   "execution_count": null,
   "metadata": {},
   "outputs": [],
   "source": [
    "mx=nx\n",
    "my=2\n",
    "fig=plt.figure(figsize=[24,6])\n",
    "ax=fig.add_subplot(111)\n",
    "ax.scatter(t,neint[:,my,mx],label=r\"$k_x$={},$k_y$={}\".format(kx[mx],ky[my]),marker=\"x\")\n",
    "ax.scatter(t_tri,np.sum(jkpq_es,axis=(1,2)),label=r\"$k_x$={},$k_y$={}\".format(kx[mx],ky[my]),marker=\"+\")\n",
    "ax.set_xlabel(\"Time t\")\n",
    "ax.set_ylabel(r\"Electrostatic nonlinear transfer $I_E$\")\n",
    "ax.set_xlim(18,22)\n",
    "ax.set_ylim(-1000,500)\n",
    "plt.show()"
   ]
  },
  {
   "cell_type": "code",
   "execution_count": null,
   "metadata": {},
   "outputs": [],
   "source": []
  },
  {
   "cell_type": "code",
   "execution_count": null,
   "metadata": {},
   "outputs": [],
   "source": []
  }
 ],
 "metadata": {
  "kernelspec": {
   "display_name": "Python 3",
   "language": "python",
   "name": "python3"
  },
  "language_info": {
   "codemirror_mode": {
    "name": "ipython",
    "version": 3
   },
   "file_extension": ".py",
   "mimetype": "text/x-python",
   "name": "python",
   "nbconvert_exporter": "python",
   "pygments_lexer": "ipython3",
   "version": "3.8.5"
  }
 },
 "nbformat": 4,
 "nbformat_minor": 4
}
