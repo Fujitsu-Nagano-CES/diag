{
 "cells": [
  {
   "cell_type": "markdown",
   "metadata": {},
   "source": [
    "# Plot fluiddetailtransinkxky*"
   ]
  },
  {
   "cell_type": "code",
   "execution_count": null,
   "metadata": {},
   "outputs": [],
   "source": [
    "import numpy as np\n",
    "import matplotlib.pyplot as plt\n",
    "import glob\n",
    "import f90nml\n",
    "from read_f90 import read_parameters, read_time # In-house module for GKV-diag outputs\n",
    "\n",
    "### GKV parameters from gkvp_header.f90 ###\n",
    "nx=read_parameters(\"../src/gkvp_header.f90\", \"nx\", int)\n",
    "global_ny=read_parameters(\"../src/gkvp_header.f90\", \"global_ny\", int)\n",
    "\n",
    "### GKV parameters from gkvp_namelist ###\n",
    "nml=f90nml.read(\"../gkvp_namelist.001\")\n",
    "#print(nml)\n",
    "dtout_eng=nml[\"times\"][\"dtout_eng\"]\n",
    "\n",
    "print(\"nx =\",nx)\n",
    "print(\"global_ny =\",global_ny)\n",
    "print(\"dtout_eng =\",dtout_eng)"
   ]
  },
  {
   "cell_type": "code",
   "execution_count": null,
   "metadata": {},
   "outputs": [],
   "source": [
    "### Load data of fluidtotaltransinkxky* ###\n",
    "filelist=sorted(glob.glob(\"./data/fluiddetailtransinkxky_x0000y0002s0_t*dat\"))\n",
    "\n",
    "# Time\n",
    "t=[]\n",
    "for f in filelist:\n",
    "    wt=read_time(f)\n",
    "    t.append(wt)\n",
    "t=np.array(t)\n",
    "print(\"t =\",t)\n",
    "\n",
    "# Coordinates: kx, ky\n",
    "data=np.loadtxt(filelist[0]) # Ascii data\n",
    "data=data.reshape(2*global_ny+1,2*nx+1,8)\n",
    "kx=data[0,:,0]\n",
    "ky=data[:,0,1]\n",
    "print(\"kx =\",kx)\n",
    "print(\"ky =\",ky)    \n",
    "\n",
    "# Values from fluidtotaltransinkxky*\n",
    "jkpq_es=[]\n",
    "jpqk_es=[]\n",
    "jqkp_es=[]\n",
    "jkpq_em=[]\n",
    "jpqk_em=[]\n",
    "jqkp_em=[]\n",
    "for f in filelist:\n",
    "    data=np.loadtxt(f) # Ascii data\n",
    "    data=data.reshape(2*global_ny+1,2*nx+1,8)\n",
    "#     kx=data[0,:,0]\n",
    "#     ky=data[:,0,1]\n",
    "    jkpq_es.append(data[:,:,2])\n",
    "    jpqk_es.append(data[:,:,3])\n",
    "    jqkp_es.append(data[:,:,4])\n",
    "    jkpq_em.append(data[:,:,5])\n",
    "    jpqk_em.append(data[:,:,6])\n",
    "    jqkp_em.append(data[:,:,7])\n",
    "    \n",
    "jkpq_es=np.array(jkpq_es)\n",
    "jpqk_es=np.array(jpqk_es)\n",
    "jqkp_es=np.array(jqkp_es)\n",
    "jkpq_em=np.array(jkpq_em)\n",
    "jpqk_em=np.array(jpqk_em)\n",
    "jqkp_em=np.array(jqkp_em)\n",
    "print(jkpq_es.shape)"
   ]
  },
  {
   "cell_type": "code",
   "execution_count": null,
   "metadata": {},
   "outputs": [],
   "source": [
    "it=3\n",
    "fig=plt.figure()\n",
    "ax=fig.add_subplot(111)\n",
    "vmax=np.abs(jkpq_es[it,:,:]).max()\n",
    "quad=ax.pcolormesh(kx,ky,jkpq_es[it,:,:],shading=\"auto\",cmap=\"RdBu_r\",vmin=-vmax,vmax=vmax)\n",
    "cbar=fig.colorbar(quad,shrink=1.0,aspect=5)\n",
    "ax.set_title(r\"Electrostatic triad transfer $J_{E,k}^{p,q}(p_x,p_y)$ \"+\"(t={})\".format(t[it]))\n",
    "ax.set_xlabel(r\"Radial wavenumber $k_x$\")\n",
    "ax.set_ylabel(r\"Poloidal wavenumber $k_y$\")\n",
    "plt.show()\n",
    "fig=plt.figure()\n",
    "ax=fig.add_subplot(111)\n",
    "# vmax=np.abs(jpqk_es[it,:,:]).max()\n",
    "quad=ax.pcolormesh(kx,ky,jpqk_es[it,:,:],shading=\"auto\",cmap=\"RdBu_r\",vmin=-vmax,vmax=vmax)\n",
    "cbar=fig.colorbar(quad,shrink=1.0,aspect=5)\n",
    "ax.set_title(r\"Electrostatic triad transfer $J_{E,p}^{q,k}(p_x,p_y)$ \"+\"(t={})\".format(t[it]))\n",
    "ax.set_xlabel(r\"Radial wavenumber $k_x$\")\n",
    "ax.set_ylabel(r\"Poloidal wavenumber $k_y$\")\n",
    "plt.show()\n",
    "# fig=plt.figure()\n",
    "# ax=fig.add_subplot(111)\n",
    "# # vmax=np.abs(jqkp_es[it,:,:]).max()\n",
    "# quad=ax.pcolormesh(kx,ky,jqkp_es[it,:,:],shading=\"auto\",cmap=\"RdBu_r\",vmin=-vmax,vmax=vmax)\n",
    "# cbar=fig.colorbar(quad,shrink=1.0,aspect=5)\n",
    "# ax.set_title(r\"Electrostatic triad transfer $J_{E,q}^{k,p}(p_x,p_y)$ \"+\"(t={})\".format(t[it]))\n",
    "# ax.set_xlabel(r\"Radial wavenumber $k_x$\")\n",
    "# ax.set_ylabel(r\"Poloidal wavenumber $k_y$\")\n",
    "# plt.show()\n",
    "# fig=plt.figure()\n",
    "# ax=fig.add_subplot(111)\n",
    "# # vmax=np.abs(jkpq_es[it,:,:]+jpqk_es[it,:,:]+jqkp_es[it,:,:]).max()\n",
    "# quad=ax.pcolormesh(kx,ky,jkpq_es[it,:,:]+jpqk_es[it,:,:]+jqkp_es[it,:,:],shading=\"auto\",cmap=\"RdBu_r\",vmin=-vmax,vmax=vmax)\n",
    "# cbar=fig.colorbar(quad,shrink=1.0,aspect=5)\n",
    "# ax.set_title(r\"Check detailed balance\"+\"(t={})\".format(t[it]))\n",
    "# ax.set_xlabel(r\"Radial wavenumber $k_x$\")\n",
    "# ax.set_ylabel(r\"Poloidal wavenumber $k_y$\")\n",
    "# plt.show()"
   ]
  },
  {
   "cell_type": "code",
   "execution_count": null,
   "metadata": {},
   "outputs": [],
   "source": [
    "fig=plt.figure()\n",
    "ax=fig.add_subplot(111)\n",
    "ax.plot(t,np.sum(jkpq_es[:,:,:],axis=(1,2)))\n",
    "ax.set_xlabel(\"Time t\")\n",
    "ax.set_ylabel(r\"Electrostatic nonlinear transfer $I_E$\")\n",
    "plt.show()"
   ]
  },
  {
   "cell_type": "code",
   "execution_count": null,
   "metadata": {},
   "outputs": [],
   "source": []
  },
  {
   "cell_type": "code",
   "execution_count": null,
   "metadata": {},
   "outputs": [],
   "source": []
  }
 ],
 "metadata": {
  "kernelspec": {
   "display_name": "Python 3",
   "language": "python",
   "name": "python3"
  },
  "language_info": {
   "codemirror_mode": {
    "name": "ipython",
    "version": 3
   },
   "file_extension": ".py",
   "mimetype": "text/x-python",
   "name": "python",
   "nbconvert_exporter": "python",
   "pygments_lexer": "ipython3",
   "version": "3.9.2"
  }
 },
 "nbformat": 4,
 "nbformat_minor": 4
}
